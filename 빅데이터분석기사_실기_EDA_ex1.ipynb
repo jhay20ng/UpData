{
  "nbformat": 4,
  "nbformat_minor": 0,
  "metadata": {
    "colab": {
      "provenance": [],
      "authorship_tag": "ABX9TyN9olJbn8gOO4e4uMZdy8cV"
    },
    "kernelspec": {
      "name": "python3",
      "display_name": "Python 3"
    },
    "language_info": {
      "name": "python"
    }
  },
  "cells": [
    {
      "cell_type": "markdown",
      "source": [
        "# 시각화 포함 탐색적 자료 분석을 시행하시오(EDA)"
      ],
      "metadata": {
        "id": "1Jjtop9gmzUn"
      }
    },
    {
      "cell_type": "code",
      "source": [
        "import numpy as np\n",
        "import pandas as pd\n",
        "\n",
        "df = pd.read_csv('https://raw.githubusercontent.com/ShapeLab/ZooidsCompositePhysicalizations/master/Zooid_Vis/bin/data/student-dataset.csv', sep=',')\n",
        "print(df.head())"
      ],
      "metadata": {
        "colab": {
          "base_uri": "https://localhost:8080/"
        },
        "id": "77oUXPnMj938",
        "outputId": "e64d3152-d03c-4eb4-fd2d-575b16061336"
      },
      "execution_count": 8,
      "outputs": [
        {
          "output_type": "stream",
          "name": "stdout",
          "text": [
            "   id             name               nationality                 city  \\\n",
            "0   0        Kiana Lor                     China               Suzhou   \n",
            "1   1   Joshua Lonaker  United States of America        Santa Clarita   \n",
            "2   2    Dakota Blanco  United States of America              Oakland   \n",
            "3   3  Natasha Yarusso  United States of America        Castro Valley   \n",
            "4   4   Brooke Cazares                    Brazil  São José dos Campos   \n",
            "\n",
            "   latitude  longitude gender  ethnic.group  age  english.grade  math.grade  \\\n",
            "0     31.31     120.62      F           NaN   22            3.5         3.7   \n",
            "1     34.39    -118.54      M           NaN   22            2.9         3.2   \n",
            "2     37.80    -122.27      F           NaN   22            3.9         3.8   \n",
            "3     37.69    -122.09      F           NaN   20            3.3         2.8   \n",
            "4    -23.18     -45.88      F           NaN   21            3.7         2.6   \n",
            "\n",
            "   sciences.grade  language.grade  portfolio.rating  coverletter.rating  \\\n",
            "0             3.1             1.0                 4                 4.0   \n",
            "1             3.6             5.0                 5                 4.0   \n",
            "2             3.2             5.0                 3                 3.0   \n",
            "3             3.2             5.0                 5                 2.0   \n",
            "4             3.4             1.0                 4                 4.0   \n",
            "\n",
            "   refletter.rating  \n",
            "0                 4  \n",
            "1                 5  \n",
            "2                 4  \n",
            "3                 4  \n",
            "4                 5  \n"
          ]
        }
      ]
    },
    {
      "cell_type": "code",
      "source": [
        "import matplotlib.pyplot as plt\n",
        "# 수학 성적 평균\n",
        "print('수학 성적 평균:', df['math.grade'].mean())\n",
        "# 수학 성적 도수 분포표\n",
        "plt.bar(df['math.grade'].value_counts().index, df['math.grade'].value_counts().values)"
      ],
      "metadata": {
        "colab": {
          "base_uri": "https://localhost:8080/",
          "height": 467
        },
        "id": "mpRVNzBro-02",
        "outputId": "97bb9423-3893-4178-8a97-e8b69e5bc238"
      },
      "execution_count": 12,
      "outputs": [
        {
          "output_type": "stream",
          "name": "stdout",
          "text": [
            "수학 성적 평균: 3.4143322475570033\n"
          ]
        },
        {
          "output_type": "execute_result",
          "data": {
            "text/plain": [
              "<BarContainer object of 20 artists>"
            ]
          },
          "metadata": {},
          "execution_count": 12
        },
        {
          "output_type": "display_data",
          "data": {
            "text/plain": [
              "<Figure size 640x480 with 1 Axes>"
            ],
            "image/png": "[encoded data removed]"
          },
          "metadata": {}
        }
      ]
    },
    {
      "cell_type": "markdown",
      "source": [],
      "metadata": {
        "id": "WaqynWMFmyBK"
      }
    }
  ]
}